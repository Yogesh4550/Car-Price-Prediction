{
 "cells": [
  {
   "cell_type": "markdown",
   "id": "879cfe26",
   "metadata": {},
   "source": [
    "#### 1. Loading required Libraries"
   ]
  },
  {
   "cell_type": "code",
   "execution_count": 64,
   "id": "f5673b66",
   "metadata": {},
   "outputs": [],
   "source": [
    "import numpy as np               # Linear Algebra\n",
    "import pandas as pd              # Data Handling\n",
    "import seaborn as sns            # Visualization\n",
    "import matplotlib.pyplot as plt  # Visualization\n",
    "from datetime import date        # Use Year\n",
    "import warnings                  # For warnings\n",
    "warnings.filterwarnings('ignore')"
   ]
  },
  {
   "cell_type": "markdown",
   "id": "8b31fe9b",
   "metadata": {},
   "source": [
    "#### 2. Importing dataset into 'cars' dataframe"
   ]
  },
  {
   "cell_type": "code",
   "execution_count": 65,
   "id": "8f1a6bf2",
   "metadata": {},
   "outputs": [
    {
     "data": {
      "text/html": [
       "<div>\n",
       "<style scoped>\n",
       "    .dataframe tbody tr th:only-of-type {\n",
       "        vertical-align: middle;\n",
       "    }\n",
       "\n",
       "    .dataframe tbody tr th {\n",
       "        vertical-align: top;\n",
       "    }\n",
       "\n",
       "    .dataframe thead th {\n",
       "        text-align: right;\n",
       "    }\n",
       "</style>\n",
       "<table border=\"1\" class=\"dataframe\">\n",
       "  <thead>\n",
       "    <tr style=\"text-align: right;\">\n",
       "      <th></th>\n",
       "      <th>Name</th>\n",
       "      <th>Variant</th>\n",
       "      <th>Transmission</th>\n",
       "      <th>km_driven</th>\n",
       "      <th>Owner_Type</th>\n",
       "      <th>Fuel</th>\n",
       "      <th>Price</th>\n",
       "      <th>Age</th>\n",
       "    </tr>\n",
       "  </thead>\n",
       "  <tbody>\n",
       "    <tr>\n",
       "      <th>0</th>\n",
       "      <td>KIA SELTOS</td>\n",
       "      <td>GTX + AT PETROL</td>\n",
       "      <td>Automatic</td>\n",
       "      <td>8241</td>\n",
       "      <td>1st Owner</td>\n",
       "      <td>Petrol</td>\n",
       "      <td>1895199</td>\n",
       "      <td>2</td>\n",
       "    </tr>\n",
       "    <tr>\n",
       "      <th>1</th>\n",
       "      <td>Maruti Swift</td>\n",
       "      <td>LXI</td>\n",
       "      <td>Manual</td>\n",
       "      <td>10568</td>\n",
       "      <td>1st Owner</td>\n",
       "      <td>Petrol</td>\n",
       "      <td>592499</td>\n",
       "      <td>2</td>\n",
       "    </tr>\n",
       "    <tr>\n",
       "      <th>2</th>\n",
       "      <td>Maruti Swift</td>\n",
       "      <td>LXI</td>\n",
       "      <td>Manual</td>\n",
       "      <td>27659</td>\n",
       "      <td>1st Owner</td>\n",
       "      <td>Petrol</td>\n",
       "      <td>533399</td>\n",
       "      <td>3</td>\n",
       "    </tr>\n",
       "    <tr>\n",
       "      <th>3</th>\n",
       "      <td>KIA SELTOS</td>\n",
       "      <td>HTX 1.5 PETROL MT</td>\n",
       "      <td>Manual</td>\n",
       "      <td>32799</td>\n",
       "      <td>1st Owner</td>\n",
       "      <td>Petrol</td>\n",
       "      <td>1383099</td>\n",
       "      <td>2</td>\n",
       "    </tr>\n",
       "    <tr>\n",
       "      <th>4</th>\n",
       "      <td>Mercedes Benz</td>\n",
       "      <td>C 200 AVANTGARDE</td>\n",
       "      <td>Automatic</td>\n",
       "      <td>37531</td>\n",
       "      <td>1st Owner</td>\n",
       "      <td>Petrol</td>\n",
       "      <td>2033499</td>\n",
       "      <td>8</td>\n",
       "    </tr>\n",
       "  </tbody>\n",
       "</table>\n",
       "</div>"
      ],
      "text/plain": [
       "            Name            Variant Transmission  km_driven Owner_Type  \\\n",
       "0     KIA SELTOS    GTX + AT PETROL    Automatic       8241  1st Owner   \n",
       "1   Maruti Swift                LXI       Manual      10568  1st Owner   \n",
       "2   Maruti Swift                LXI       Manual      27659  1st Owner   \n",
       "3     KIA SELTOS  HTX 1.5 PETROL MT       Manual      32799  1st Owner   \n",
       "4  Mercedes Benz   C 200 AVANTGARDE    Automatic      37531  1st Owner   \n",
       "\n",
       "     Fuel    Price  Age  \n",
       "0  Petrol  1895199    2  \n",
       "1  Petrol   592499    2  \n",
       "2  Petrol   533399    3  \n",
       "3  Petrol  1383099    2  \n",
       "4  Petrol  2033499    8  "
      ]
     },
     "execution_count": 65,
     "metadata": {},
     "output_type": "execute_result"
    }
   ],
   "source": [
    "cars = pd.read_csv(\"../datasets/clean_car.csv\")\n",
    "cars=cars.iloc[:,1:]\n",
    "cars.head()"
   ]
  },
  {
   "cell_type": "code",
   "execution_count": 66,
   "id": "774dbbbe",
   "metadata": {},
   "outputs": [
    {
     "data": {
      "text/html": [
       "<div>\n",
       "<style scoped>\n",
       "    .dataframe tbody tr th:only-of-type {\n",
       "        vertical-align: middle;\n",
       "    }\n",
       "\n",
       "    .dataframe tbody tr th {\n",
       "        vertical-align: top;\n",
       "    }\n",
       "\n",
       "    .dataframe thead th {\n",
       "        text-align: right;\n",
       "    }\n",
       "</style>\n",
       "<table border=\"1\" class=\"dataframe\">\n",
       "  <thead>\n",
       "    <tr style=\"text-align: right;\">\n",
       "      <th></th>\n",
       "      <th>Variant</th>\n",
       "      <th>Transmission</th>\n",
       "      <th>km_driven</th>\n",
       "      <th>Owner_Type</th>\n",
       "      <th>Fuel</th>\n",
       "      <th>Price</th>\n",
       "      <th>Age</th>\n",
       "    </tr>\n",
       "  </thead>\n",
       "  <tbody>\n",
       "    <tr>\n",
       "      <th>0</th>\n",
       "      <td>GTX + AT PETROL</td>\n",
       "      <td>Automatic</td>\n",
       "      <td>8241</td>\n",
       "      <td>1st Owner</td>\n",
       "      <td>Petrol</td>\n",
       "      <td>1895199</td>\n",
       "      <td>2</td>\n",
       "    </tr>\n",
       "    <tr>\n",
       "      <th>1</th>\n",
       "      <td>LXI</td>\n",
       "      <td>Manual</td>\n",
       "      <td>10568</td>\n",
       "      <td>1st Owner</td>\n",
       "      <td>Petrol</td>\n",
       "      <td>592499</td>\n",
       "      <td>2</td>\n",
       "    </tr>\n",
       "    <tr>\n",
       "      <th>2</th>\n",
       "      <td>LXI</td>\n",
       "      <td>Manual</td>\n",
       "      <td>27659</td>\n",
       "      <td>1st Owner</td>\n",
       "      <td>Petrol</td>\n",
       "      <td>533399</td>\n",
       "      <td>3</td>\n",
       "    </tr>\n",
       "    <tr>\n",
       "      <th>3</th>\n",
       "      <td>HTX 1.5 PETROL MT</td>\n",
       "      <td>Manual</td>\n",
       "      <td>32799</td>\n",
       "      <td>1st Owner</td>\n",
       "      <td>Petrol</td>\n",
       "      <td>1383099</td>\n",
       "      <td>2</td>\n",
       "    </tr>\n",
       "    <tr>\n",
       "      <th>4</th>\n",
       "      <td>C 200 AVANTGARDE</td>\n",
       "      <td>Automatic</td>\n",
       "      <td>37531</td>\n",
       "      <td>1st Owner</td>\n",
       "      <td>Petrol</td>\n",
       "      <td>2033499</td>\n",
       "      <td>8</td>\n",
       "    </tr>\n",
       "    <tr>\n",
       "      <th>...</th>\n",
       "      <td>...</td>\n",
       "      <td>...</td>\n",
       "      <td>...</td>\n",
       "      <td>...</td>\n",
       "      <td>...</td>\n",
       "      <td>...</td>\n",
       "      <td>...</td>\n",
       "    </tr>\n",
       "    <tr>\n",
       "      <th>627</th>\n",
       "      <td>LXI CNG 1.0 L</td>\n",
       "      <td>Manual</td>\n",
       "      <td>19087</td>\n",
       "      <td>1st Owner</td>\n",
       "      <td>Petrol + CNG</td>\n",
       "      <td>608899</td>\n",
       "      <td>1</td>\n",
       "    </tr>\n",
       "    <tr>\n",
       "      <th>628</th>\n",
       "      <td>VXI OPT</td>\n",
       "      <td>Manual</td>\n",
       "      <td>48136</td>\n",
       "      <td>1st Owner</td>\n",
       "      <td>Petrol</td>\n",
       "      <td>372999</td>\n",
       "      <td>5</td>\n",
       "    </tr>\n",
       "    <tr>\n",
       "      <th>629</th>\n",
       "      <td>MAGNA 1.1 IRDE2</td>\n",
       "      <td>Manual</td>\n",
       "      <td>45657</td>\n",
       "      <td>1st Owner</td>\n",
       "      <td>Petrol</td>\n",
       "      <td>350999</td>\n",
       "      <td>7</td>\n",
       "    </tr>\n",
       "    <tr>\n",
       "      <th>630</th>\n",
       "      <td>XZ 1.2 REVOTRON</td>\n",
       "      <td>Manual</td>\n",
       "      <td>649</td>\n",
       "      <td>1st Owner</td>\n",
       "      <td>Petrol</td>\n",
       "      <td>731399</td>\n",
       "      <td>1</td>\n",
       "    </tr>\n",
       "    <tr>\n",
       "      <th>631</th>\n",
       "      <td>XE 1.2 REVOTRON</td>\n",
       "      <td>Manual</td>\n",
       "      <td>16179</td>\n",
       "      <td>1st Owner</td>\n",
       "      <td>Petrol</td>\n",
       "      <td>449499</td>\n",
       "      <td>4</td>\n",
       "    </tr>\n",
       "  </tbody>\n",
       "</table>\n",
       "<p>632 rows × 7 columns</p>\n",
       "</div>"
      ],
      "text/plain": [
       "               Variant Transmission  km_driven Owner_Type          Fuel  \\\n",
       "0      GTX + AT PETROL    Automatic       8241  1st Owner        Petrol   \n",
       "1                  LXI       Manual      10568  1st Owner        Petrol   \n",
       "2                  LXI       Manual      27659  1st Owner        Petrol   \n",
       "3    HTX 1.5 PETROL MT       Manual      32799  1st Owner        Petrol   \n",
       "4     C 200 AVANTGARDE    Automatic      37531  1st Owner        Petrol   \n",
       "..                 ...          ...        ...        ...           ...   \n",
       "627      LXI CNG 1.0 L       Manual      19087  1st Owner  Petrol + CNG   \n",
       "628            VXI OPT       Manual      48136  1st Owner        Petrol   \n",
       "629    MAGNA 1.1 IRDE2       Manual      45657  1st Owner        Petrol   \n",
       "630    XZ 1.2 REVOTRON       Manual        649  1st Owner        Petrol   \n",
       "631    XE 1.2 REVOTRON       Manual      16179  1st Owner        Petrol   \n",
       "\n",
       "       Price  Age  \n",
       "0    1895199    2  \n",
       "1     592499    2  \n",
       "2     533399    3  \n",
       "3    1383099    2  \n",
       "4    2033499    8  \n",
       "..       ...  ...  \n",
       "627   608899    1  \n",
       "628   372999    5  \n",
       "629   350999    7  \n",
       "630   731399    1  \n",
       "631   449499    4  \n",
       "\n",
       "[632 rows x 7 columns]"
      ]
     },
     "execution_count": 66,
     "metadata": {},
     "output_type": "execute_result"
    }
   ],
   "source": [
    "cars.iloc[:,1:]"
   ]
  },
  {
   "cell_type": "markdown",
   "id": "5389ec13",
   "metadata": {},
   "source": [
    "#### 6. Model Fitting"
   ]
  },
  {
   "cell_type": "markdown",
   "id": "d8763a4d",
   "metadata": {},
   "source": [
    "##### 6.0 Outliers\n",
    "\n",
    "Before, fitting any model we need to analyse outliers in the dataset."
   ]
  },
  {
   "cell_type": "code",
   "execution_count": 67,
   "id": "6d817a1a",
   "metadata": {},
   "outputs": [
    {
     "data": {
      "image/png": "[encoded data removed]",
      "text/plain": [
       "<Figure size 720x360 with 1 Axes>"
      ]
     },
     "metadata": {},
     "output_type": "display_data"
    }
   ],
   "source": [
    "fig = sns.set(rc={'figure.figsize': (10, 5)})\n",
    "sns.histplot(cars['Price'])\n",
    "# plt.hist(cars['Price'], bins=20, rwidth=0.8)\n",
    "plt.show()"
   ]
  },
  {
   "cell_type": "code",
   "execution_count": 68,
   "id": "d50a2384",
   "metadata": {},
   "outputs": [
    {
     "data": {
      "image/png": "[encoded data removed]",
      "text/plain": [
       "<Figure size 720x144 with 1 Axes>"
      ]
     },
     "metadata": {},
     "output_type": "display_data"
    }
   ],
   "source": [
    "fig = sns.set(rc={'figure.figsize': (10, 2)})\n",
    "sns.boxplot(cars['Price'])\n",
    "plt.show()"
   ]
  },
  {
   "cell_type": "markdown",
   "id": "ce3a8e01",
   "metadata": {},
   "source": [
    "**Observation**\n",
    "\n",
    "As we can see, there are more than one outliers in the feature **Price**."
   ]
  },
  {
   "cell_type": "code",
   "execution_count": 69,
   "id": "064d0a7d",
   "metadata": {},
   "outputs": [
    {
     "name": "stdout",
     "output_type": "stream",
     "text": [
      "435574.0 787049.0\n"
     ]
    }
   ],
   "source": [
    "Q1, Q3 = np.percentile(cars['Price'], [25,75])\n",
    "print(Q1, Q3)"
   ]
  },
  {
   "cell_type": "code",
   "execution_count": 70,
   "id": "24f5c4a3",
   "metadata": {},
   "outputs": [
    {
     "name": "stdout",
     "output_type": "stream",
     "text": [
      "351475.0\n"
     ]
    }
   ],
   "source": [
    "IQR = Q3-Q1\n",
    "print(IQR)"
   ]
  },
  {
   "cell_type": "code",
   "execution_count": 71,
   "id": "fedc13d5",
   "metadata": {},
   "outputs": [
    {
     "name": "stdout",
     "output_type": "stream",
     "text": [
      "-91638.5 1314261.5\n"
     ]
    }
   ],
   "source": [
    "lower_fence = Q1 - (1.5*IQR)\n",
    "higher_fence = Q3 + (1.5*IQR)\n",
    "\n",
    "print(lower_fence, higher_fence)"
   ]
  },
  {
   "cell_type": "code",
   "execution_count": 72,
   "id": "11fee3eb",
   "metadata": {},
   "outputs": [
    {
     "data": {
      "text/plain": [
       "(578, 8)"
      ]
     },
     "execution_count": 72,
     "metadata": {},
     "output_type": "execute_result"
    }
   ],
   "source": [
    "cars[(cars['Price'] > lower_fence) & (cars['Price'] < higher_fence)].shape"
   ]
  },
  {
   "cell_type": "markdown",
   "id": "290eefd8",
   "metadata": {},
   "source": [
    "#### By Z-Score"
   ]
  },
  {
   "cell_type": "code",
   "execution_count": 73,
   "id": "ebff9f4d",
   "metadata": {},
   "outputs": [
    {
     "data": {
      "text/html": [
       "<div>\n",
       "<style scoped>\n",
       "    .dataframe tbody tr th:only-of-type {\n",
       "        vertical-align: middle;\n",
       "    }\n",
       "\n",
       "    .dataframe tbody tr th {\n",
       "        vertical-align: top;\n",
       "    }\n",
       "\n",
       "    .dataframe thead th {\n",
       "        text-align: right;\n",
       "    }\n",
       "</style>\n",
       "<table border=\"1\" class=\"dataframe\">\n",
       "  <thead>\n",
       "    <tr style=\"text-align: right;\">\n",
       "      <th></th>\n",
       "      <th>Name</th>\n",
       "      <th>Variant</th>\n",
       "      <th>Transmission</th>\n",
       "      <th>km_driven</th>\n",
       "      <th>Owner_Type</th>\n",
       "      <th>Fuel</th>\n",
       "      <th>Price</th>\n",
       "      <th>Age</th>\n",
       "      <th>zscore</th>\n",
       "    </tr>\n",
       "  </thead>\n",
       "  <tbody>\n",
       "    <tr>\n",
       "      <th>0</th>\n",
       "      <td>KIA SELTOS</td>\n",
       "      <td>GTX + AT PETROL</td>\n",
       "      <td>Automatic</td>\n",
       "      <td>8241</td>\n",
       "      <td>1st Owner</td>\n",
       "      <td>Petrol</td>\n",
       "      <td>1895199</td>\n",
       "      <td>2</td>\n",
       "      <td>3.225112</td>\n",
       "    </tr>\n",
       "    <tr>\n",
       "      <th>1</th>\n",
       "      <td>Maruti Swift</td>\n",
       "      <td>LXI</td>\n",
       "      <td>Manual</td>\n",
       "      <td>10568</td>\n",
       "      <td>1st Owner</td>\n",
       "      <td>Petrol</td>\n",
       "      <td>592499</td>\n",
       "      <td>2</td>\n",
       "      <td>-0.257488</td>\n",
       "    </tr>\n",
       "    <tr>\n",
       "      <th>2</th>\n",
       "      <td>Maruti Swift</td>\n",
       "      <td>LXI</td>\n",
       "      <td>Manual</td>\n",
       "      <td>27659</td>\n",
       "      <td>1st Owner</td>\n",
       "      <td>Petrol</td>\n",
       "      <td>533399</td>\n",
       "      <td>3</td>\n",
       "      <td>-0.415484</td>\n",
       "    </tr>\n",
       "    <tr>\n",
       "      <th>3</th>\n",
       "      <td>KIA SELTOS</td>\n",
       "      <td>HTX 1.5 PETROL MT</td>\n",
       "      <td>Manual</td>\n",
       "      <td>32799</td>\n",
       "      <td>1st Owner</td>\n",
       "      <td>Petrol</td>\n",
       "      <td>1383099</td>\n",
       "      <td>2</td>\n",
       "      <td>1.856079</td>\n",
       "    </tr>\n",
       "    <tr>\n",
       "      <th>4</th>\n",
       "      <td>Mercedes Benz</td>\n",
       "      <td>C 200 AVANTGARDE</td>\n",
       "      <td>Automatic</td>\n",
       "      <td>37531</td>\n",
       "      <td>1st Owner</td>\n",
       "      <td>Petrol</td>\n",
       "      <td>2033499</td>\n",
       "      <td>8</td>\n",
       "      <td>3.594840</td>\n",
       "    </tr>\n",
       "  </tbody>\n",
       "</table>\n",
       "</div>"
      ],
      "text/plain": [
       "            Name            Variant Transmission  km_driven Owner_Type  \\\n",
       "0     KIA SELTOS    GTX + AT PETROL    Automatic       8241  1st Owner   \n",
       "1   Maruti Swift                LXI       Manual      10568  1st Owner   \n",
       "2   Maruti Swift                LXI       Manual      27659  1st Owner   \n",
       "3     KIA SELTOS  HTX 1.5 PETROL MT       Manual      32799  1st Owner   \n",
       "4  Mercedes Benz   C 200 AVANTGARDE    Automatic      37531  1st Owner   \n",
       "\n",
       "     Fuel    Price  Age    zscore  \n",
       "0  Petrol  1895199    2  3.225112  \n",
       "1  Petrol   592499    2 -0.257488  \n",
       "2  Petrol   533399    3 -0.415484  \n",
       "3  Petrol  1383099    2  1.856079  \n",
       "4  Petrol  2033499    8  3.594840  "
      ]
     },
     "execution_count": 73,
     "metadata": {},
     "output_type": "execute_result"
    }
   ],
   "source": [
    "cars['zscore'] = (cars['Price'] - cars['Price'].mean()) / cars['Price'].std()\n",
    "cars.head()"
   ]
  },
  {
   "cell_type": "code",
   "execution_count": 74,
   "id": "36c2b7b2",
   "metadata": {},
   "outputs": [
    {
     "data": {
      "text/html": [
       "<div>\n",
       "<style scoped>\n",
       "    .dataframe tbody tr th:only-of-type {\n",
       "        vertical-align: middle;\n",
       "    }\n",
       "\n",
       "    .dataframe tbody tr th {\n",
       "        vertical-align: top;\n",
       "    }\n",
       "\n",
       "    .dataframe thead th {\n",
       "        text-align: right;\n",
       "    }\n",
       "</style>\n",
       "<table border=\"1\" class=\"dataframe\">\n",
       "  <thead>\n",
       "    <tr style=\"text-align: right;\">\n",
       "      <th></th>\n",
       "      <th>Name</th>\n",
       "      <th>Variant</th>\n",
       "      <th>Transmission</th>\n",
       "      <th>km_driven</th>\n",
       "      <th>Owner_Type</th>\n",
       "      <th>Fuel</th>\n",
       "      <th>Price</th>\n",
       "      <th>Age</th>\n",
       "      <th>zscore</th>\n",
       "    </tr>\n",
       "  </thead>\n",
       "  <tbody>\n",
       "    <tr>\n",
       "      <th>0</th>\n",
       "      <td>KIA SELTOS</td>\n",
       "      <td>GTX + AT PETROL</td>\n",
       "      <td>Automatic</td>\n",
       "      <td>8241</td>\n",
       "      <td>1st Owner</td>\n",
       "      <td>Petrol</td>\n",
       "      <td>1895199</td>\n",
       "      <td>2</td>\n",
       "      <td>3.225112</td>\n",
       "    </tr>\n",
       "    <tr>\n",
       "      <th>4</th>\n",
       "      <td>Mercedes Benz</td>\n",
       "      <td>C 200 AVANTGARDE</td>\n",
       "      <td>Automatic</td>\n",
       "      <td>37531</td>\n",
       "      <td>1st Owner</td>\n",
       "      <td>Petrol</td>\n",
       "      <td>2033499</td>\n",
       "      <td>8</td>\n",
       "      <td>3.594840</td>\n",
       "    </tr>\n",
       "    <tr>\n",
       "      <th>30</th>\n",
       "      <td>MG HECTOR</td>\n",
       "      <td>SHARP HYBRID PETROL</td>\n",
       "      <td>Manual</td>\n",
       "      <td>12185</td>\n",
       "      <td>2nd Owner</td>\n",
       "      <td>Petrol</td>\n",
       "      <td>1848299</td>\n",
       "      <td>2</td>\n",
       "      <td>3.099731</td>\n",
       "    </tr>\n",
       "    <tr>\n",
       "      <th>33</th>\n",
       "      <td>Jeep Compass</td>\n",
       "      <td>1.4  LONGITUDE (O) AT</td>\n",
       "      <td>Automatic</td>\n",
       "      <td>23327</td>\n",
       "      <td>1st Owner</td>\n",
       "      <td>Petrol</td>\n",
       "      <td>2012799</td>\n",
       "      <td>3</td>\n",
       "      <td>3.539501</td>\n",
       "    </tr>\n",
       "    <tr>\n",
       "      <th>34</th>\n",
       "      <td>Jeep Compass</td>\n",
       "      <td>2.0 LIMITED</td>\n",
       "      <td>Manual</td>\n",
       "      <td>46860</td>\n",
       "      <td>1st Owner</td>\n",
       "      <td>Diesel</td>\n",
       "      <td>1941699</td>\n",
       "      <td>3</td>\n",
       "      <td>3.349424</td>\n",
       "    </tr>\n",
       "  </tbody>\n",
       "</table>\n",
       "</div>"
      ],
      "text/plain": [
       "             Name                Variant Transmission  km_driven Owner_Type  \\\n",
       "0      KIA SELTOS        GTX + AT PETROL    Automatic       8241  1st Owner   \n",
       "4   Mercedes Benz       C 200 AVANTGARDE    Automatic      37531  1st Owner   \n",
       "30      MG HECTOR    SHARP HYBRID PETROL       Manual      12185  2nd Owner   \n",
       "33   Jeep Compass  1.4  LONGITUDE (O) AT    Automatic      23327  1st Owner   \n",
       "34   Jeep Compass            2.0 LIMITED       Manual      46860  1st Owner   \n",
       "\n",
       "      Fuel    Price  Age    zscore  \n",
       "0   Petrol  1895199    2  3.225112  \n",
       "4   Petrol  2033499    8  3.594840  \n",
       "30  Petrol  1848299    2  3.099731  \n",
       "33  Petrol  2012799    3  3.539501  \n",
       "34  Diesel  1941699    3  3.349424  "
      ]
     },
     "execution_count": 74,
     "metadata": {},
     "output_type": "execute_result"
    }
   ],
   "source": [
    "outliers = cars[(cars['zscore'] < -3) | (cars['zscore'] > 3)]\n",
    "outliers.head()"
   ]
  },
  {
   "cell_type": "code",
   "execution_count": 75,
   "id": "8b3e1bd9",
   "metadata": {},
   "outputs": [
    {
     "data": {
      "text/plain": [
       "(12, 9)"
      ]
     },
     "execution_count": 75,
     "metadata": {},
     "output_type": "execute_result"
    }
   ],
   "source": [
    "outliers.shape"
   ]
  },
  {
   "cell_type": "code",
   "execution_count": 76,
   "id": "9cdea307",
   "metadata": {},
   "outputs": [
    {
     "data": {
      "text/plain": [
       "(620, 9)"
      ]
     },
     "execution_count": 76,
     "metadata": {},
     "output_type": "execute_result"
    }
   ],
   "source": [
    "cars = cars[(cars['zscore'] > -3) & (cars['zscore'] < 3)]\n",
    "cars.shape"
   ]
  },
  {
   "cell_type": "code",
   "execution_count": 77,
   "id": "3bd79a30",
   "metadata": {},
   "outputs": [],
   "source": [
    "del cars[\"zscore\"]"
   ]
  },
  {
   "cell_type": "markdown",
   "id": "c01fb68a",
   "metadata": {},
   "source": [
    "##### 6.1. Splitting Data into X and y"
   ]
  },
  {
   "cell_type": "code",
   "execution_count": 78,
   "id": "a3d24c3a",
   "metadata": {},
   "outputs": [],
   "source": [
    "X = cars.drop(columns =['Price'])\n",
    "y = cars['Price']"
   ]
  },
  {
   "cell_type": "markdown",
   "id": "49b7698b",
   "metadata": {},
   "source": [
    "##### 6.2. Importing libraries for model fitting"
   ]
  },
  {
   "cell_type": "code",
   "execution_count": 79,
   "id": "aa935629",
   "metadata": {},
   "outputs": [],
   "source": [
    "from sklearn.model_selection import train_test_split\n",
    "from sklearn.preprocessing import OneHotEncoder\n",
    "from sklearn.compose import make_column_transformer\n",
    "from sklearn.preprocessing import StandardScaler\n",
    "from sklearn.pipeline import make_pipeline\n",
    "from sklearn.linear_model import LinearRegression, RidgeCV, LassoCV\n",
    "from sklearn.metrics import r2_score, mean_squared_error, mean_absolute_error"
   ]
  },
  {
   "cell_type": "markdown",
   "id": "1a93f129",
   "metadata": {},
   "source": [
    "##### 6.3. Pipeline"
   ]
  },
  {
   "cell_type": "markdown",
   "id": "bee2538c",
   "metadata": {},
   "source": [
    "##### 6.3.1. One Hot Encoding"
   ]
  },
  {
   "cell_type": "code",
   "execution_count": 80,
   "id": "7b67a427",
   "metadata": {},
   "outputs": [
    {
     "name": "stdout",
     "output_type": "stream",
     "text": [
      "Name : 76\n",
      "Variant : 247\n",
      "Transmission : 2\n",
      "Owner_Type : 3\n",
      "Fuel : 3\n"
     ]
    }
   ],
   "source": [
    "cat_cols = ['Name','Variant','Transmission','Owner_Type','Fuel']\n",
    "\n",
    "for col in cat_cols:\n",
    "    print(col, \":\", len(X[col].unique()))"
   ]
  },
  {
   "cell_type": "code",
   "execution_count": 81,
   "id": "e8a2a68a",
   "metadata": {},
   "outputs": [],
   "source": [
    "# pd.get_dummies(X, drop_first=True).shape"
   ]
  },
  {
   "cell_type": "markdown",
   "id": "487504f5",
   "metadata": {},
   "source": [
    "As number of Features increases, that leads to curse of Dimensionality.\n",
    "This might impact our accuracy level."
   ]
  },
  {
   "cell_type": "code",
   "execution_count": 82,
   "id": "82164a21",
   "metadata": {},
   "outputs": [
    {
     "data": {
      "text/html": [
       "<style>#sk-container-id-3 {color: black;background-color: white;}#sk-container-id-3 pre{padding: 0;}#sk-container-id-3 div.sk-toggleable {background-color: white;}#sk-container-id-3 label.sk-toggleable__label {cursor: pointer;display: block;width: 100%;margin-bottom: 0;padding: 0.3em;box-sizing: border-box;text-align: center;}#sk-container-id-3 label.sk-toggleable__label-arrow:before {content: \"▸\";float: left;margin-right: 0.25em;color: #696969;}#sk-container-id-3 label.sk-toggleable__label-arrow:hover:before {color: black;}#sk-container-id-3 div.sk-estimator:hover label.sk-toggleable__label-arrow:before {color: black;}#sk-container-id-3 div.sk-toggleable__content {max-height: 0;max-width: 0;overflow: hidden;text-align: left;background-color: #f0f8ff;}#sk-container-id-3 div.sk-toggleable__content pre {margin: 0.2em;color: black;border-radius: 0.25em;background-color: #f0f8ff;}#sk-container-id-3 input.sk-toggleable__control:checked~div.sk-toggleable__content {max-height: 200px;max-width: 100%;overflow: auto;}#sk-container-id-3 input.sk-toggleable__control:checked~label.sk-toggleable__label-arrow:before {content: \"▾\";}#sk-container-id-3 div.sk-estimator input.sk-toggleable__control:checked~label.sk-toggleable__label {background-color: #d4ebff;}#sk-container-id-3 div.sk-label input.sk-toggleable__control:checked~label.sk-toggleable__label {background-color: #d4ebff;}#sk-container-id-3 input.sk-hidden--visually {border: 0;clip: rect(1px 1px 1px 1px);clip: rect(1px, 1px, 1px, 1px);height: 1px;margin: -1px;overflow: hidden;padding: 0;position: absolute;width: 1px;}#sk-container-id-3 div.sk-estimator {font-family: monospace;background-color: #f0f8ff;border: 1px dotted black;border-radius: 0.25em;box-sizing: border-box;margin-bottom: 0.5em;}#sk-container-id-3 div.sk-estimator:hover {background-color: #d4ebff;}#sk-container-id-3 div.sk-parallel-item::after {content: \"\";width: 100%;border-bottom: 1px solid gray;flex-grow: 1;}#sk-container-id-3 div.sk-label:hover label.sk-toggleable__label {background-color: #d4ebff;}#sk-container-id-3 div.sk-serial::before {content: \"\";position: absolute;border-left: 1px solid gray;box-sizing: border-box;top: 0;bottom: 0;left: 50%;z-index: 0;}#sk-container-id-3 div.sk-serial {display: flex;flex-direction: column;align-items: center;background-color: white;padding-right: 0.2em;padding-left: 0.2em;position: relative;}#sk-container-id-3 div.sk-item {position: relative;z-index: 1;}#sk-container-id-3 div.sk-parallel {display: flex;align-items: stretch;justify-content: center;background-color: white;position: relative;}#sk-container-id-3 div.sk-item::before, #sk-container-id-3 div.sk-parallel-item::before {content: \"\";position: absolute;border-left: 1px solid gray;box-sizing: border-box;top: 0;bottom: 0;left: 50%;z-index: -1;}#sk-container-id-3 div.sk-parallel-item {display: flex;flex-direction: column;z-index: 1;position: relative;background-color: white;}#sk-container-id-3 div.sk-parallel-item:first-child::after {align-self: flex-end;width: 50%;}#sk-container-id-3 div.sk-parallel-item:last-child::after {align-self: flex-start;width: 50%;}#sk-container-id-3 div.sk-parallel-item:only-child::after {width: 0;}#sk-container-id-3 div.sk-dashed-wrapped {border: 1px dashed gray;margin: 0 0.4em 0.5em 0.4em;box-sizing: border-box;padding-bottom: 0.4em;background-color: white;}#sk-container-id-3 div.sk-label label {font-family: monospace;font-weight: bold;display: inline-block;line-height: 1.2em;}#sk-container-id-3 div.sk-label-container {text-align: center;}#sk-container-id-3 div.sk-container {/* jupyter's `normalize.less` sets `[hidden] { display: none; }` but bootstrap.min.css set `[hidden] { display: none !important; }` so we also need the `!important` here to be able to override the default hidden behavior on the sphinx rendered scikit-learn.org. See: https://github.com/scikit-learn/scikit-learn/issues/21755 */display: inline-block !important;position: relative;}#sk-container-id-3 div.sk-text-repr-fallback {display: none;}</style><div id=\"sk-container-id-3\" class=\"sk-top-container\"><div class=\"sk-text-repr-fallback\"><pre>OneHotEncoder()</pre><b>In a Jupyter environment, please rerun this cell to show the HTML representation or trust the notebook. <br />On GitHub, the HTML representation is unable to render, please try loading this page with nbviewer.org.</b></div><div class=\"sk-container\" hidden><div class=\"sk-item\"><div class=\"sk-estimator sk-toggleable\"><input class=\"sk-toggleable__control sk-hidden--visually\" id=\"sk-estimator-id-10\" type=\"checkbox\" checked><label for=\"sk-estimator-id-10\" class=\"sk-toggleable__label sk-toggleable__label-arrow\">OneHotEncoder</label><div class=\"sk-toggleable__content\"><pre>OneHotEncoder()</pre></div></div></div></div></div>"
      ],
      "text/plain": [
       "OneHotEncoder()"
      ]
     },
     "execution_count": 82,
     "metadata": {},
     "output_type": "execute_result"
    }
   ],
   "source": [
    "ohe = OneHotEncoder()\n",
    "ohe.fit(X[['Name','Variant','Transmission','Owner_Type','Fuel']])"
   ]
  },
  {
   "cell_type": "code",
   "execution_count": 83,
   "id": "2b88f61a",
   "metadata": {},
   "outputs": [],
   "source": [
    "column_trans = make_column_transformer(\n",
    "    (OneHotEncoder(categories=ohe.categories_),['Name','Variant','Transmission','Owner_Type','Fuel']),\n",
    "    remainder='passthrough'\n",
    ")"
   ]
  },
  {
   "cell_type": "markdown",
   "id": "19f52698",
   "metadata": {},
   "source": [
    "##### 6.3.2. Standard Scaler"
   ]
  },
  {
   "cell_type": "code",
   "execution_count": 84,
   "id": "26e5f2aa",
   "metadata": {},
   "outputs": [],
   "source": [
    "scaler = StandardScaler(with_mean=False)"
   ]
  },
  {
   "cell_type": "markdown",
   "id": "5754dbc6",
   "metadata": {},
   "source": [
    "##### 6.3.3. Regression Models"
   ]
  },
  {
   "cell_type": "code",
   "execution_count": 85,
   "id": "d34ccb6f",
   "metadata": {},
   "outputs": [],
   "source": [
    "# Linear Regression\n",
    "lr = LinearRegression()\n",
    "\n",
    "# Alpha values\n",
    "alphas = [0.005, 0.05, 0.1, 0.3, 1, 3, 5, 10, 15, 30, 80]\n",
    "\n",
    "# Ridge and Lasso\n",
    "ridgecv = RidgeCV(alphas=alphas,cv=4)\n",
    "lassocv = LassoCV(alphas=alphas,cv=4,normalize=True)"
   ]
  },
  {
   "cell_type": "markdown",
   "id": "7e6dd5d8",
   "metadata": {},
   "source": [
    "##### 6.3.4. Pipeline Structure"
   ]
  },
  {
   "cell_type": "code",
   "execution_count": 86,
   "id": "d21b7736",
   "metadata": {},
   "outputs": [
    {
     "data": {
      "text/html": [
       "<style>#sk-container-id-4 {color: black;background-color: white;}#sk-container-id-4 pre{padding: 0;}#sk-container-id-4 div.sk-toggleable {background-color: white;}#sk-container-id-4 label.sk-toggleable__label {cursor: pointer;display: block;width: 100%;margin-bottom: 0;padding: 0.3em;box-sizing: border-box;text-align: center;}#sk-container-id-4 label.sk-toggleable__label-arrow:before {content: \"▸\";float: left;margin-right: 0.25em;color: #696969;}#sk-container-id-4 label.sk-toggleable__label-arrow:hover:before {color: black;}#sk-container-id-4 div.sk-estimator:hover label.sk-toggleable__label-arrow:before {color: black;}#sk-container-id-4 div.sk-toggleable__content {max-height: 0;max-width: 0;overflow: hidden;text-align: left;background-color: #f0f8ff;}#sk-container-id-4 div.sk-toggleable__content pre {margin: 0.2em;color: black;border-radius: 0.25em;background-color: #f0f8ff;}#sk-container-id-4 input.sk-toggleable__control:checked~div.sk-toggleable__content {max-height: 200px;max-width: 100%;overflow: auto;}#sk-container-id-4 input.sk-toggleable__control:checked~label.sk-toggleable__label-arrow:before {content: \"▾\";}#sk-container-id-4 div.sk-estimator input.sk-toggleable__control:checked~label.sk-toggleable__label {background-color: #d4ebff;}#sk-container-id-4 div.sk-label input.sk-toggleable__control:checked~label.sk-toggleable__label {background-color: #d4ebff;}#sk-container-id-4 input.sk-hidden--visually {border: 0;clip: rect(1px 1px 1px 1px);clip: rect(1px, 1px, 1px, 1px);height: 1px;margin: -1px;overflow: hidden;padding: 0;position: absolute;width: 1px;}#sk-container-id-4 div.sk-estimator {font-family: monospace;background-color: #f0f8ff;border: 1px dotted black;border-radius: 0.25em;box-sizing: border-box;margin-bottom: 0.5em;}#sk-container-id-4 div.sk-estimator:hover {background-color: #d4ebff;}#sk-container-id-4 div.sk-parallel-item::after {content: \"\";width: 100%;border-bottom: 1px solid gray;flex-grow: 1;}#sk-container-id-4 div.sk-label:hover label.sk-toggleable__label {background-color: #d4ebff;}#sk-container-id-4 div.sk-serial::before {content: \"\";position: absolute;border-left: 1px solid gray;box-sizing: border-box;top: 0;bottom: 0;left: 50%;z-index: 0;}#sk-container-id-4 div.sk-serial {display: flex;flex-direction: column;align-items: center;background-color: white;padding-right: 0.2em;padding-left: 0.2em;position: relative;}#sk-container-id-4 div.sk-item {position: relative;z-index: 1;}#sk-container-id-4 div.sk-parallel {display: flex;align-items: stretch;justify-content: center;background-color: white;position: relative;}#sk-container-id-4 div.sk-item::before, #sk-container-id-4 div.sk-parallel-item::before {content: \"\";position: absolute;border-left: 1px solid gray;box-sizing: border-box;top: 0;bottom: 0;left: 50%;z-index: -1;}#sk-container-id-4 div.sk-parallel-item {display: flex;flex-direction: column;z-index: 1;position: relative;background-color: white;}#sk-container-id-4 div.sk-parallel-item:first-child::after {align-self: flex-end;width: 50%;}#sk-container-id-4 div.sk-parallel-item:last-child::after {align-self: flex-start;width: 50%;}#sk-container-id-4 div.sk-parallel-item:only-child::after {width: 0;}#sk-container-id-4 div.sk-dashed-wrapped {border: 1px dashed gray;margin: 0 0.4em 0.5em 0.4em;box-sizing: border-box;padding-bottom: 0.4em;background-color: white;}#sk-container-id-4 div.sk-label label {font-family: monospace;font-weight: bold;display: inline-block;line-height: 1.2em;}#sk-container-id-4 div.sk-label-container {text-align: center;}#sk-container-id-4 div.sk-container {/* jupyter's `normalize.less` sets `[hidden] { display: none; }` but bootstrap.min.css set `[hidden] { display: none !important; }` so we also need the `!important` here to be able to override the default hidden behavior on the sphinx rendered scikit-learn.org. See: https://github.com/scikit-learn/scikit-learn/issues/21755 */display: inline-block !important;position: relative;}#sk-container-id-4 div.sk-text-repr-fallback {display: none;}</style><div id=\"sk-container-id-4\" class=\"sk-top-container\"><div class=\"sk-text-repr-fallback\"><pre>Pipeline(steps=[(&#x27;columntransformer&#x27;,\n",
       "                 ColumnTransformer(remainder=&#x27;passthrough&#x27;,\n",
       "                                   transformers=[(&#x27;onehotencoder&#x27;,\n",
       "                                                  OneHotEncoder(categories=[array([&#x27;Audi A3&#x27;, &#x27;Audi Q3&#x27;, &#x27;Audi Q5&#x27;, &#x27;BMW 5&#x27;, &#x27;BMW X1&#x27;, &#x27;BMW X3&#x27;,\n",
       "       &#x27;Datsun Redi&#x27;, &#x27;Ford Ecosport&#x27;, &#x27;Ford Figo&#x27;, &#x27;Honda Amaze&#x27;,\n",
       "       &#x27;Honda Brio&#x27;, &#x27;Honda City&#x27;, &#x27;Honda Civic&#x27;, &#x27;Honda Jazz&#x27;,\n",
       "       &#x27;Honda WR-V&#x27;, &#x27;Hyundai Creta&#x27;, &#x27;Hyundai Elite&#x27;, &#x27;Hyundai Eon&#x27;,\n",
       "       &#x27;...\n",
       "       &#x27;ZX CVT PETROL&#x27;, &#x27;ZXI&#x27;, &#x27;ZXI +&#x27;, &#x27;ZXI 1.2&#x27;, &#x27;ZXI AMT&#x27;,\n",
       "       &#x27;ZXI OPT AMT&#x27;, &#x27;ZXI+&#x27;], dtype=object),\n",
       "                                                                            array([&#x27;Automatic&#x27;, &#x27;Manual&#x27;], dtype=object),\n",
       "                                                                            array([&#x27;1st Owner&#x27;, &#x27;2nd Owner&#x27;, &#x27;3rd Owner&#x27;], dtype=object),\n",
       "                                                                            array([&#x27;Diesel&#x27;, &#x27;Petrol&#x27;, &#x27;Petrol + CNG&#x27;], dtype=object)]),\n",
       "                                                  [&#x27;Name&#x27;, &#x27;Variant&#x27;,\n",
       "                                                   &#x27;Transmission&#x27;, &#x27;Owner_Type&#x27;,\n",
       "                                                   &#x27;Fuel&#x27;])])),\n",
       "                (&#x27;standardscaler&#x27;, StandardScaler(with_mean=False)),\n",
       "                (&#x27;linearregression&#x27;, LinearRegression())])</pre><b>In a Jupyter environment, please rerun this cell to show the HTML representation or trust the notebook. <br />On GitHub, the HTML representation is unable to render, please try loading this page with nbviewer.org.</b></div><div class=\"sk-container\" hidden><div class=\"sk-item sk-dashed-wrapped\"><div class=\"sk-label-container\"><div class=\"sk-label sk-toggleable\"><input class=\"sk-toggleable__control sk-hidden--visually\" id=\"sk-estimator-id-11\" type=\"checkbox\" ><label for=\"sk-estimator-id-11\" class=\"sk-toggleable__label sk-toggleable__label-arrow\">Pipeline</label><div class=\"sk-toggleable__content\"><pre>Pipeline(steps=[(&#x27;columntransformer&#x27;,\n",
       "                 ColumnTransformer(remainder=&#x27;passthrough&#x27;,\n",
       "                                   transformers=[(&#x27;onehotencoder&#x27;,\n",
       "                                                  OneHotEncoder(categories=[array([&#x27;Audi A3&#x27;, &#x27;Audi Q3&#x27;, &#x27;Audi Q5&#x27;, &#x27;BMW 5&#x27;, &#x27;BMW X1&#x27;, &#x27;BMW X3&#x27;,\n",
       "       &#x27;Datsun Redi&#x27;, &#x27;Ford Ecosport&#x27;, &#x27;Ford Figo&#x27;, &#x27;Honda Amaze&#x27;,\n",
       "       &#x27;Honda Brio&#x27;, &#x27;Honda City&#x27;, &#x27;Honda Civic&#x27;, &#x27;Honda Jazz&#x27;,\n",
       "       &#x27;Honda WR-V&#x27;, &#x27;Hyundai Creta&#x27;, &#x27;Hyundai Elite&#x27;, &#x27;Hyundai Eon&#x27;,\n",
       "       &#x27;...\n",
       "       &#x27;ZX CVT PETROL&#x27;, &#x27;ZXI&#x27;, &#x27;ZXI +&#x27;, &#x27;ZXI 1.2&#x27;, &#x27;ZXI AMT&#x27;,\n",
       "       &#x27;ZXI OPT AMT&#x27;, &#x27;ZXI+&#x27;], dtype=object),\n",
       "                                                                            array([&#x27;Automatic&#x27;, &#x27;Manual&#x27;], dtype=object),\n",
       "                                                                            array([&#x27;1st Owner&#x27;, &#x27;2nd Owner&#x27;, &#x27;3rd Owner&#x27;], dtype=object),\n",
       "                                                                            array([&#x27;Diesel&#x27;, &#x27;Petrol&#x27;, &#x27;Petrol + CNG&#x27;], dtype=object)]),\n",
       "                                                  [&#x27;Name&#x27;, &#x27;Variant&#x27;,\n",
       "                                                   &#x27;Transmission&#x27;, &#x27;Owner_Type&#x27;,\n",
       "                                                   &#x27;Fuel&#x27;])])),\n",
       "                (&#x27;standardscaler&#x27;, StandardScaler(with_mean=False)),\n",
       "                (&#x27;linearregression&#x27;, LinearRegression())])</pre></div></div></div><div class=\"sk-serial\"><div class=\"sk-item sk-dashed-wrapped\"><div class=\"sk-label-container\"><div class=\"sk-label sk-toggleable\"><input class=\"sk-toggleable__control sk-hidden--visually\" id=\"sk-estimator-id-12\" type=\"checkbox\" ><label for=\"sk-estimator-id-12\" class=\"sk-toggleable__label sk-toggleable__label-arrow\">columntransformer: ColumnTransformer</label><div class=\"sk-toggleable__content\"><pre>ColumnTransformer(remainder=&#x27;passthrough&#x27;,\n",
       "                  transformers=[(&#x27;onehotencoder&#x27;,\n",
       "                                 OneHotEncoder(categories=[array([&#x27;Audi A3&#x27;, &#x27;Audi Q3&#x27;, &#x27;Audi Q5&#x27;, &#x27;BMW 5&#x27;, &#x27;BMW X1&#x27;, &#x27;BMW X3&#x27;,\n",
       "       &#x27;Datsun Redi&#x27;, &#x27;Ford Ecosport&#x27;, &#x27;Ford Figo&#x27;, &#x27;Honda Amaze&#x27;,\n",
       "       &#x27;Honda Brio&#x27;, &#x27;Honda City&#x27;, &#x27;Honda Civic&#x27;, &#x27;Honda Jazz&#x27;,\n",
       "       &#x27;Honda WR-V&#x27;, &#x27;Hyundai Creta&#x27;, &#x27;Hyundai Elite&#x27;, &#x27;Hyundai Eon&#x27;,\n",
       "       &#x27;Hyundai GRAND&#x27;, &#x27;Hyundai Grand&#x27;, &#x27;Hyundai...\n",
       "       &#x27;ZDI Plus AMT&#x27;, &#x27;ZDI+ SHVS&#x27;, &#x27;ZETA 1.2 K12&#x27;, &#x27;ZETA 1.2 K12 AMT&#x27;,\n",
       "       &#x27;ZETA 1.2 K12 CVT&#x27;, &#x27;ZETA 1.3&#x27;, &#x27;ZETA DDIS 190&#x27;, &#x27;ZX CVT&#x27;,\n",
       "       &#x27;ZX CVT PETROL&#x27;, &#x27;ZXI&#x27;, &#x27;ZXI +&#x27;, &#x27;ZXI 1.2&#x27;, &#x27;ZXI AMT&#x27;,\n",
       "       &#x27;ZXI OPT AMT&#x27;, &#x27;ZXI+&#x27;], dtype=object),\n",
       "                                                           array([&#x27;Automatic&#x27;, &#x27;Manual&#x27;], dtype=object),\n",
       "                                                           array([&#x27;1st Owner&#x27;, &#x27;2nd Owner&#x27;, &#x27;3rd Owner&#x27;], dtype=object),\n",
       "                                                           array([&#x27;Diesel&#x27;, &#x27;Petrol&#x27;, &#x27;Petrol + CNG&#x27;], dtype=object)]),\n",
       "                                 [&#x27;Name&#x27;, &#x27;Variant&#x27;, &#x27;Transmission&#x27;,\n",
       "                                  &#x27;Owner_Type&#x27;, &#x27;Fuel&#x27;])])</pre></div></div></div><div class=\"sk-parallel\"><div class=\"sk-parallel-item\"><div class=\"sk-item\"><div class=\"sk-label-container\"><div class=\"sk-label sk-toggleable\"><input class=\"sk-toggleable__control sk-hidden--visually\" id=\"sk-estimator-id-13\" type=\"checkbox\" ><label for=\"sk-estimator-id-13\" class=\"sk-toggleable__label sk-toggleable__label-arrow\">onehotencoder</label><div class=\"sk-toggleable__content\"><pre>[&#x27;Name&#x27;, &#x27;Variant&#x27;, &#x27;Transmission&#x27;, &#x27;Owner_Type&#x27;, &#x27;Fuel&#x27;]</pre></div></div></div><div class=\"sk-serial\"><div class=\"sk-item\"><div class=\"sk-estimator sk-toggleable\"><input class=\"sk-toggleable__control sk-hidden--visually\" id=\"sk-estimator-id-14\" type=\"checkbox\" ><label for=\"sk-estimator-id-14\" class=\"sk-toggleable__label sk-toggleable__label-arrow\">OneHotEncoder</label><div class=\"sk-toggleable__content\"><pre>OneHotEncoder(categories=[array([&#x27;Audi A3&#x27;, &#x27;Audi Q3&#x27;, &#x27;Audi Q5&#x27;, &#x27;BMW 5&#x27;, &#x27;BMW X1&#x27;, &#x27;BMW X3&#x27;,\n",
       "       &#x27;Datsun Redi&#x27;, &#x27;Ford Ecosport&#x27;, &#x27;Ford Figo&#x27;, &#x27;Honda Amaze&#x27;,\n",
       "       &#x27;Honda Brio&#x27;, &#x27;Honda City&#x27;, &#x27;Honda Civic&#x27;, &#x27;Honda Jazz&#x27;,\n",
       "       &#x27;Honda WR-V&#x27;, &#x27;Hyundai Creta&#x27;, &#x27;Hyundai Elite&#x27;, &#x27;Hyundai Eon&#x27;,\n",
       "       &#x27;Hyundai GRAND&#x27;, &#x27;Hyundai Grand&#x27;, &#x27;Hyundai NEW&#x27;, &#x27;Hyundai New&#x27;,\n",
       "       &#x27;Hyundai Tucson&#x27;, &#x27;Hyundai VENUE&#x27;, &#x27;Hyundai Verna&#x27;,\n",
       "       &#x27;Hyundai X...\n",
       "       &#x27;XZA 1.2 REVOTRON&#x27;, &#x27;ZDI&#x27;, &#x27;ZDI PLUS&#x27;, &#x27;ZDI PLUS DUAL TONE&#x27;,\n",
       "       &#x27;ZDI Plus AMT&#x27;, &#x27;ZDI+ SHVS&#x27;, &#x27;ZETA 1.2 K12&#x27;, &#x27;ZETA 1.2 K12 AMT&#x27;,\n",
       "       &#x27;ZETA 1.2 K12 CVT&#x27;, &#x27;ZETA 1.3&#x27;, &#x27;ZETA DDIS 190&#x27;, &#x27;ZX CVT&#x27;,\n",
       "       &#x27;ZX CVT PETROL&#x27;, &#x27;ZXI&#x27;, &#x27;ZXI +&#x27;, &#x27;ZXI 1.2&#x27;, &#x27;ZXI AMT&#x27;,\n",
       "       &#x27;ZXI OPT AMT&#x27;, &#x27;ZXI+&#x27;], dtype=object),\n",
       "                          array([&#x27;Automatic&#x27;, &#x27;Manual&#x27;], dtype=object),\n",
       "                          array([&#x27;1st Owner&#x27;, &#x27;2nd Owner&#x27;, &#x27;3rd Owner&#x27;], dtype=object),\n",
       "                          array([&#x27;Diesel&#x27;, &#x27;Petrol&#x27;, &#x27;Petrol + CNG&#x27;], dtype=object)])</pre></div></div></div></div></div></div><div class=\"sk-parallel-item\"><div class=\"sk-item\"><div class=\"sk-label-container\"><div class=\"sk-label sk-toggleable\"><input class=\"sk-toggleable__control sk-hidden--visually\" id=\"sk-estimator-id-15\" type=\"checkbox\" ><label for=\"sk-estimator-id-15\" class=\"sk-toggleable__label sk-toggleable__label-arrow\">remainder</label><div class=\"sk-toggleable__content\"><pre></pre></div></div></div><div class=\"sk-serial\"><div class=\"sk-item\"><div class=\"sk-estimator sk-toggleable\"><input class=\"sk-toggleable__control sk-hidden--visually\" id=\"sk-estimator-id-16\" type=\"checkbox\" ><label for=\"sk-estimator-id-16\" class=\"sk-toggleable__label sk-toggleable__label-arrow\">passthrough</label><div class=\"sk-toggleable__content\"><pre>passthrough</pre></div></div></div></div></div></div></div></div><div class=\"sk-item\"><div class=\"sk-estimator sk-toggleable\"><input class=\"sk-toggleable__control sk-hidden--visually\" id=\"sk-estimator-id-17\" type=\"checkbox\" ><label for=\"sk-estimator-id-17\" class=\"sk-toggleable__label sk-toggleable__label-arrow\">StandardScaler</label><div class=\"sk-toggleable__content\"><pre>StandardScaler(with_mean=False)</pre></div></div></div><div class=\"sk-item\"><div class=\"sk-estimator sk-toggleable\"><input class=\"sk-toggleable__control sk-hidden--visually\" id=\"sk-estimator-id-18\" type=\"checkbox\" ><label for=\"sk-estimator-id-18\" class=\"sk-toggleable__label sk-toggleable__label-arrow\">LinearRegression</label><div class=\"sk-toggleable__content\"><pre>LinearRegression()</pre></div></div></div></div></div></div></div>"
      ],
      "text/plain": [
       "Pipeline(steps=[('columntransformer',\n",
       "                 ColumnTransformer(remainder='passthrough',\n",
       "                                   transformers=[('onehotencoder',\n",
       "                                                  OneHotEncoder(categories=[array(['Audi A3', 'Audi Q3', 'Audi Q5', 'BMW 5', 'BMW X1', 'BMW X3',\n",
       "       'Datsun Redi', 'Ford Ecosport', 'Ford Figo', 'Honda Amaze',\n",
       "       'Honda Brio', 'Honda City', 'Honda Civic', 'Honda Jazz',\n",
       "       'Honda WR-V', 'Hyundai Creta', 'Hyundai Elite', 'Hyundai Eon',\n",
       "       '...\n",
       "       'ZX CVT PETROL', 'ZXI', 'ZXI +', 'ZXI 1.2', 'ZXI AMT',\n",
       "       'ZXI OPT AMT', 'ZXI+'], dtype=object),\n",
       "                                                                            array(['Automatic', 'Manual'], dtype=object),\n",
       "                                                                            array(['1st Owner', '2nd Owner', '3rd Owner'], dtype=object),\n",
       "                                                                            array(['Diesel', 'Petrol', 'Petrol + CNG'], dtype=object)]),\n",
       "                                                  ['Name', 'Variant',\n",
       "                                                   'Transmission', 'Owner_Type',\n",
       "                                                   'Fuel'])])),\n",
       "                ('standardscaler', StandardScaler(with_mean=False)),\n",
       "                ('linearregression', LinearRegression())])"
      ]
     },
     "execution_count": 86,
     "metadata": {},
     "output_type": "execute_result"
    }
   ],
   "source": [
    "pipe = make_pipeline(column_trans, scaler, lr)\n",
    "pipe"
   ]
  },
  {
   "cell_type": "markdown",
   "id": "98c0d560",
   "metadata": {},
   "source": [
    "#### 7. Functions"
   ]
  },
  {
   "cell_type": "markdown",
   "id": "90a78801",
   "metadata": {},
   "source": [
    "##### 7.1 For converting big values into readable form"
   ]
  },
  {
   "cell_type": "code",
   "execution_count": 87,
   "id": "00db2edf",
   "metadata": {},
   "outputs": [],
   "source": [
    "def format_float(num):\n",
    "    return np.format_float_positional(round(num,2), trim='-')"
   ]
  },
  {
   "cell_type": "markdown",
   "id": "a9d2e103",
   "metadata": {},
   "source": [
    "##### 7.2. Returns Dataframe consisting all errors"
   ]
  },
  {
   "cell_type": "code",
   "execution_count": 88,
   "id": "98f2e82f",
   "metadata": {},
   "outputs": [],
   "source": [
    "def metrics(y_test, y_pred):\n",
    "    mae = mean_absolute_error(y_test, y_pred)\n",
    "    mse = mean_squared_error(y_test, y_pred)\n",
    "    rmse = np.sqrt(mse)\n",
    "    r2 = r2_score(y_test, y_pred)\n",
    "\n",
    "    dict_ = {\n",
    "        \"MAE\": [format_float(mae)],\n",
    "        \"MSE\": [format_float(mse)],\n",
    "        \"RMSE\": [format_float(rmse)],\n",
    "        \"R2\": [(r2)]\n",
    "    }\n",
    "\n",
    "    results = pd.DataFrame(dict_)\n",
    "    results.index = [\"Values\"]\n",
    "\n",
    "    return results"
   ]
  },
  {
   "cell_type": "markdown",
   "id": "30b35b36",
   "metadata": {},
   "source": [
    "##### 7.3. For Training model"
   ]
  },
  {
   "cell_type": "code",
   "execution_count": 89,
   "id": "53c10760",
   "metadata": {},
   "outputs": [],
   "source": [
    "X_train, x_test, Y_train, y_test = train_test_split(X, y, test_size=0.3, random_state=1)\n",
    "\n",
    "\n",
    "def train_model(X, y, transformer, scaler, model):\n",
    "    pipe = make_pipeline(transformer, scaler, model)\n",
    "    pipe.fit(X_train, Y_train)\n",
    "    y_pred = pipe.predict(x_test)\n",
    "    \n",
    "    return metrics(y_test,y_pred), pipe"
   ]
  },
  {
   "cell_type": "markdown",
   "id": "818d56f5",
   "metadata": {},
   "source": [
    "#### 8. Train"
   ]
  },
  {
   "cell_type": "code",
   "execution_count": 90,
   "id": "a9ca7469",
   "metadata": {},
   "outputs": [
    {
     "data": {
      "text/html": [
       "<div>\n",
       "<style scoped>\n",
       "    .dataframe tbody tr th:only-of-type {\n",
       "        vertical-align: middle;\n",
       "    }\n",
       "\n",
       "    .dataframe tbody tr th {\n",
       "        vertical-align: top;\n",
       "    }\n",
       "\n",
       "    .dataframe thead th {\n",
       "        text-align: right;\n",
       "    }\n",
       "</style>\n",
       "<table border=\"1\" class=\"dataframe\">\n",
       "  <thead>\n",
       "    <tr style=\"text-align: right;\">\n",
       "      <th></th>\n",
       "      <th>MAE</th>\n",
       "      <th>MSE</th>\n",
       "      <th>RMSE</th>\n",
       "      <th>R2</th>\n",
       "    </tr>\n",
       "  </thead>\n",
       "  <tbody>\n",
       "    <tr>\n",
       "      <th>Values</th>\n",
       "      <td>83164.58</td>\n",
       "      <td>22567218267.56</td>\n",
       "      <td>150223.89</td>\n",
       "      <td>0.802508</td>\n",
       "    </tr>\n",
       "  </tbody>\n",
       "</table>\n",
       "</div>"
      ],
      "text/plain": [
       "             MAE             MSE       RMSE        R2\n",
       "Values  83164.58  22567218267.56  150223.89  0.802508"
      ]
     },
     "execution_count": 90,
     "metadata": {},
     "output_type": "execute_result"
    }
   ],
   "source": [
    "metrics, pipe = train_model(X, y, column_trans, scaler, lr)\n",
    "metrics"
   ]
  },
  {
   "cell_type": "markdown",
   "id": "ce4ff539",
   "metadata": {},
   "source": [
    "#### 9. Dumping into pickle"
   ]
  },
  {
   "cell_type": "code",
   "execution_count": 91,
   "id": "985efd87",
   "metadata": {},
   "outputs": [],
   "source": [
    "import pickle"
   ]
  },
  {
   "cell_type": "code",
   "execution_count": 92,
   "id": "3a7ced5f",
   "metadata": {},
   "outputs": [],
   "source": [
    "data = {\"lr\": pipe, \"ridge\": ridgecv, \"lasso\": lassocv}\n",
    "\n",
    "pickle.dump(data,open('../pickle/LinearRegressionModel.pkl','wb'))"
   ]
  },
  {
   "cell_type": "markdown",
   "id": "47f12d82",
   "metadata": {},
   "source": [
    "#### 10. Prediction"
   ]
  },
  {
   "cell_type": "markdown",
   "id": "5ceaf2ca",
   "metadata": {},
   "source": [
    "##### 10.1. Input from User"
   ]
  },
  {
   "cell_type": "code",
   "execution_count": 93,
   "id": "87264fca",
   "metadata": {},
   "outputs": [],
   "source": [
    "# User Input 1\n",
    "\n",
    "Name = \"Maruti Swift\"\n",
    "Variant = \"LXI\"\n",
    "Transmission = \"Manual\"\n",
    "km_driven = 10568\n",
    "Owner_Type = \"1st Owner\"\n",
    "Fuel = \"Petrol\"\n",
    "Age = 2"
   ]
  },
  {
   "cell_type": "code",
   "execution_count": 94,
   "id": "2a7082ac",
   "metadata": {},
   "outputs": [],
   "source": [
    "# User Input 2\n",
    "\n",
    "Name = \"KIA SELTOS\"\n",
    "Variant = \"HTX 1.5 PETROL MT\"\n",
    "Transmission = \"Manual\"\n",
    "km_driven = 50000\n",
    "Owner_Type = \"1st Owner\"\n",
    "Fuel = \"Petrol\"\n",
    "Age = 5"
   ]
  },
  {
   "cell_type": "markdown",
   "id": "1dde51e1",
   "metadata": {},
   "source": [
    "##### 10.2. User Input to Dataframe"
   ]
  },
  {
   "cell_type": "code",
   "execution_count": 95,
   "id": "57186b05",
   "metadata": {},
   "outputs": [],
   "source": [
    "dict_ = {\n",
    "            \"Name\": [Name],\n",
    "            \"Variant\": [Variant],\n",
    "            \"Transmission\": [Transmission],\n",
    "            \"km_driven\":[km_driven],\n",
    "            \"Owner_Type\": [Owner_Type],\n",
    "            \"Fuel\": [Fuel],\n",
    "            \"Age\": [Age]\n",
    "        }\n",
    "\n",
    "results = pd.DataFrame(dict_)"
   ]
  },
  {
   "cell_type": "markdown",
   "id": "4e258754",
   "metadata": {},
   "source": [
    "##### 10.3. Prediction Result"
   ]
  },
  {
   "cell_type": "code",
   "execution_count": 96,
   "id": "76ba10f0",
   "metadata": {},
   "outputs": [
    {
     "name": "stdout",
     "output_type": "stream",
     "text": [
      "The Predicted value of Car is \u001b[1mRs.1271319.55\u001b[0m.\n"
     ]
    }
   ],
   "source": [
    "print(\"The Predicted value of Car is \\033[1mRs.{price:.2f}\\033[0m.\".format(price = pipe.predict(results)[0]))"
   ]
  }
 ],
 "metadata": {
  "kernelspec": {
   "display_name": "Python 3.9.12 ('base')",
   "language": "python",
   "name": "python3"
  },
  "language_info": {
   "codemirror_mode": {
    "name": "ipython",
    "version": 3
   },
   "file_extension": ".py",
   "mimetype": "text/x-python",
   "name": "python",
   "nbconvert_exporter": "python",
   "pygments_lexer": "ipython3",
   "version": "3.9.12"
  },
  "vscode": {
   "interpreter": {
    "hash": "72b97491cdeb9bb3ac668fcced72ff373db005df824af2ab58d7a007fb3289ad"
   }
  }
 },
 "nbformat": 4,
 "nbformat_minor": 5
}
